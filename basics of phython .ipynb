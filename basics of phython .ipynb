{
 "cells": [
  {
   "cell_type": "raw",
   "id": "738bb044-f175-449c-bb6b-649082e34f82",
   "metadata": {},
   "source": [
    "**Python Basics Questions**\n",
    "\n",
    "1.What is Python, and why is it popular ?\n",
    "\n",
    "Python is a programming language that is easy to understand and write, making it a popular choice among developers and programmers.\n",
    "2.What is an interpreter in Python?\n",
    "\n",
    "A computer program that translates Python code into machine code that a computer can understand and execute\n",
    "3.What are pre-defined keywords in Python?\n",
    "\n",
    "Python keywords are reserved words that have a special meaning and purpose in the language. Exampale:- variable names, function names ,true ,false ,integer ,string, float etc .\n",
    "4.Can keywords be used as variable names?\n",
    "\n",
    "Keywords define the language's syntax rules and structure, and they cannot be used as variable names.\n",
    "5.What is mutability in Python?\n",
    "\n",
    "Mutability in Python refers to the ability to change an object's value or state after it has been created. Objects that can be changed are called mutable objects, while objects that cannot be changed are called immutable objects.\n",
    "6.Why are lists mutable, but tuples are immutable.\n",
    "\n",
    "The main difference between tuples and lists is that tuples are immutable, meaning their contents cannot be changed after creation, while lists are mutable and can be modified. Additionally, tuples are more memory-efficient compared to lists. Tuples can't be changed after they're created, but lists can be modified.\n",
    "What is the difference between “==” and “is” operators in Python?\n",
    "In Python, the == operator checks for value equality while the is operator checks for object identity in memory.\n",
    "What are logical operators in Python?\n",
    "Logical operators in Python are used to evaluate multiple conditions and determine the truth value of an expression.\n",
    "9.What is type casting in Python?\n",
    "\n",
    "Type casting in Python is the process of converting a variable's data type from one type to another.\n",
    "10.What is the difference between implicit and explicit type casting?\n",
    "\n",
    "The main difference between implicit and explicit type casting is that implicit type casting is automatic, while explicit type casting is manual.\n",
    "11.What is the purpose of conditional statements in Python?\n",
    "\n",
    "Conditional statements check the value of a condition and execute a block of code if the condition is true. If the condition is false, the code is not executed.\n",
    "12.How does the elif statement work?\n",
    "\n",
    "The “elif” keyword in Python, stands for “else if”. It can be used in conditional statements to check for multiple conditions. For example, if the first condition is false, it moves on to the next “elif” statement to check if that condition is true.\n",
    "13.0 What is the difference between for and while loops?\n",
    "\n",
    "The main difference between a for loop and a while loop is that a for loop is used when the number of iterations is known in advance, while a while loop is used when the number of iterations is unknown\n",
    "14.Describe a scenario where a while loop is more suitable than a for loop?\n",
    "\n",
    "In contrast to a 'for' loop, which is generally used when the number of iterations is known beforehand, a 'while' loop is ideal for situations where the number of iterations is not predetermined and depends on some dynamic condition."
   ]
  },
  {
   "cell_type": "raw",
   "id": "0cbbe099-4853-4468-9b2d-7a28262d2f97",
   "metadata": {},
   "source": [
    "Practical question"
   ]
  },
  {
   "cell_type": "code",
   "execution_count": 4,
   "id": "a2d1be7f-fae5-4149-a58e-9c9493a9bade",
   "metadata": {},
   "outputs": [
    {
     "name": "stdout",
     "output_type": "stream",
     "text": [
      "Hello World!\n"
     ]
    }
   ],
   "source": [
    "#1\n",
    "print(\"Hello World!\")"
   ]
  },
  {
   "cell_type": "code",
   "execution_count": 5,
   "id": "39ef1eb3-a64e-4407-8a69-f1c3dcccf407",
   "metadata": {},
   "outputs": [
    {
     "name": "stdin",
     "output_type": "stream",
     "text": [
      "Enter Age 26\n",
      "My Name JITENDRA RASTOGI\n"
     ]
    },
    {
     "name": "stdout",
     "output_type": "stream",
     "text": [
      "Hi,My Name is JITENDRA RASTOGI,and i am 26 year Old.\n"
     ]
    }
   ],
   "source": [
    "#2\n",
    "Age=input(\"Enter Age\")\n",
    "Name=input(\"My Name\")\n",
    "print(\"Hi,My Name is \"+ Name +\",and i am \"+ Age +\" year Old.\")"
   ]
  },
  {
   "cell_type": "code",
   "execution_count": 8,
   "id": "d6acb138-959d-46a5-8033-b16a995c65ae",
   "metadata": {},
   "outputs": [
    {
     "name": "stdout",
     "output_type": "stream",
     "text": [
      "\n",
      "Here is a list of the Python keywords.  Enter any keyword to get more help.\n",
      "\n",
      "False               class               from                or\n",
      "None                continue            global              pass\n",
      "True                def                 if                  raise\n",
      "and                 del                 import              return\n",
      "as                  elif                in                  try\n",
      "assert              else                is                  while\n",
      "async               except              lambda              with\n",
      "await               finally             nonlocal            yield\n",
      "break               for                 not                 \n",
      "\n"
     ]
    }
   ],
   "source": [
    "help(\"keywords\")"
   ]
  },
  {
   "cell_type": "code",
   "execution_count": 9,
   "id": "bd03a00c-ace4-4dc2-9dc0-6dff1a4ce14b",
   "metadata": {},
   "outputs": [],
   "source": [
    "#4.\n",
    "\n",
    "str = \"rohit\"\n",
    "\n",
    "str = \"for\""
   ]
  },
  {
   "cell_type": "code",
   "execution_count": 10,
   "id": "8743a87a-ccab-490e-aa8c-43a06cf96452",
   "metadata": {},
   "outputs": [
    {
     "data": {
      "text/plain": [
       "3"
      ]
     },
     "execution_count": 10,
     "metadata": {},
     "output_type": "execute_result"
    }
   ],
   "source": [
    "#5\n",
    "\n",
    "A=3\n",
    "A"
   ]
  },
  {
   "cell_type": "code",
   "execution_count": 11,
   "id": "d7ec0cd6-6476-4560-b472-da7095ffcd82",
   "metadata": {},
   "outputs": [
    {
     "data": {
      "text/plain": [
       "[1, 3, 5, 6, 4j, 'shiv']"
      ]
     },
     "execution_count": 11,
     "metadata": {},
     "output_type": "execute_result"
    }
   ],
   "source": [
    "list_count=[1,3, 5, 6, 4j, \"shiv\"]\n",
    "list_count"
   ]
  },
  {
   "cell_type": "code",
   "execution_count": 12,
   "id": "75c518d1-ba03-4375-9b37-20699c3b74a4",
   "metadata": {},
   "outputs": [
    {
     "data": {
      "text/plain": [
       "4j"
      ]
     },
     "execution_count": 12,
     "metadata": {},
     "output_type": "execute_result"
    }
   ],
   "source": [
    "list_count[4]"
   ]
  },
  {
   "cell_type": "code",
   "execution_count": 13,
   "id": "8ec9844d-8958-463f-ab47-1d5ef9db76c7",
   "metadata": {},
   "outputs": [
    {
     "data": {
      "text/plain": [
       "'shiv'"
      ]
     },
     "execution_count": 13,
     "metadata": {},
     "output_type": "execute_result"
    }
   ],
   "source": [
    "#6\n",
    "#mutabil\n",
    "list_count[5]"
   ]
  },
  {
   "cell_type": "code",
   "execution_count": 14,
   "id": "8bdfa309-d181-4888-b6f7-bd476b07640b",
   "metadata": {},
   "outputs": [
    {
     "data": {
      "text/plain": [
       "[1, 3, 5, 6, 4j, 'Kanha']"
      ]
     },
     "execution_count": 14,
     "metadata": {},
     "output_type": "execute_result"
    }
   ],
   "source": [
    "list_count[5]= \"Kanha\"\n",
    "list_count"
   ]
  },
  {
   "cell_type": "code",
   "execution_count": 15,
   "id": "80368fb1-80fb-4a74-a4d5-e79b8a1eb613",
   "metadata": {},
   "outputs": [
    {
     "data": {
      "text/plain": [
       "'krishna'"
      ]
     },
     "execution_count": 15,
     "metadata": {},
     "output_type": "execute_result"
    }
   ],
   "source": [
    "#immutibil\n",
    "\n",
    "b = \"krishna\"\n",
    "b"
   ]
  },
  {
   "cell_type": "code",
   "execution_count": 16,
   "id": "663609a4-d287-4311-95ae-70e23b15a72b",
   "metadata": {},
   "outputs": [
    {
     "ename": "TypeError",
     "evalue": "'str' object does not support item assignment",
     "output_type": "error",
     "traceback": [
      "\u001b[1;31m---------------------------------------------------------------------------\u001b[0m",
      "\u001b[1;31mTypeError\u001b[0m                                 Traceback (most recent call last)",
      "Cell \u001b[1;32mIn[16], line 1\u001b[0m\n\u001b[1;32m----> 1\u001b[0m b[\u001b[38;5;241m0\u001b[39m] \u001b[38;5;241m=\u001b[39m\u001b[38;5;124m\"\u001b[39m\u001b[38;5;124mi\u001b[39m\u001b[38;5;124m\"\u001b[39m\n",
      "\u001b[1;31mTypeError\u001b[0m: 'str' object does not support item assignment"
     ]
    }
   ],
   "source": [
    "b[0] =\"i\""
   ]
  },
  {
   "cell_type": "code",
   "execution_count": 18,
   "id": "45cf2da5-c0ca-40c1-8b33-690230a87a8f",
   "metadata": {},
   "outputs": [
    {
     "ename": "NameError",
     "evalue": "name 'true' is not defined",
     "output_type": "error",
     "traceback": [
      "\u001b[1;31m---------------------------------------------------------------------------\u001b[0m",
      "\u001b[1;31mNameError\u001b[0m                                 Traceback (most recent call last)",
      "Cell \u001b[1;32mIn[18], line 5\u001b[0m\n\u001b[0;32m      1\u001b[0m \u001b[38;5;66;03m#8\u001b[39;00m\n\u001b[0;32m      2\u001b[0m \u001b[38;5;66;03m#logical operator\u001b[39;00m\n\u001b[0;32m      3\u001b[0m \u001b[38;5;66;03m#and \u001b[39;00m\n\u001b[0;32m      4\u001b[0m \u001b[38;5;66;03m#or \u001b[39;00m\n\u001b[1;32m----> 5\u001b[0m true\u001b[38;5;241m-\u001b[39mfalse\n",
      "\u001b[1;31mNameError\u001b[0m: name 'true' is not defined"
     ]
    }
   ],
   "source": [
    "#8\n",
    "#logical operator\n",
    "#and \n",
    "#or \n",
    "true-false\n"
   ]
  },
  {
   "cell_type": "code",
   "execution_count": 19,
   "id": "c064fb82-8622-4682-8668-7e494ecfb156",
   "metadata": {},
   "outputs": [
    {
     "data": {
      "text/plain": [
       "5"
      ]
     },
     "execution_count": 19,
     "metadata": {},
     "output_type": "execute_result"
    }
   ],
   "source": [
    "a = \"2\"\n",
    "b = 3\n",
    "int(a)+b"
   ]
  },
  {
   "cell_type": "code",
   "execution_count": 22,
   "id": "ad49fdde-abde-4825-b22a-689095492508",
   "metadata": {},
   "outputs": [
    {
     "name": "stdout",
     "output_type": "stream",
     "text": [
      "<class 'str'>\n",
      "<class 'int'>\n"
     ]
    }
   ],
   "source": [
    "#string to Integer\n",
    "a = '2'\n",
    "print(type(a))\n",
    "print(type(int(a)))"
   ]
  },
  {
   "cell_type": "code",
   "execution_count": 24,
   "id": "d8eaf375-d095-4acd-8c09-8d65ae0cc641",
   "metadata": {},
   "outputs": [
    {
     "data": {
      "text/plain": [
       "str"
      ]
     },
     "execution_count": 24,
     "metadata": {},
     "output_type": "execute_result"
    }
   ],
   "source": [
    "#string to float \n",
    "a = \"3\"\n",
    "type(a)"
   ]
  },
  {
   "cell_type": "code",
   "execution_count": 25,
   "id": "64ebbf17-1cd2-401d-bb79-87983aa1fd81",
   "metadata": {},
   "outputs": [
    {
     "name": "stdout",
     "output_type": "stream",
     "text": [
      "<class 'str'>\n",
      "<class 'float'>\n"
     ]
    }
   ],
   "source": [
    "a = \"3\"\n",
    "print(type(a))\n",
    "print(type(float(a)))"
   ]
  },
  {
   "cell_type": "code",
   "execution_count": 26,
   "id": "caf0b86a-b564-49da-8bfe-0534e502fcea",
   "metadata": {},
   "outputs": [
    {
     "data": {
      "text/plain": [
       "str"
      ]
     },
     "execution_count": 26,
     "metadata": {},
     "output_type": "execute_result"
    }
   ],
   "source": [
    "#string to boolean \n",
    "a = \"3\"\n",
    "type(a)"
   ]
  },
  {
   "cell_type": "code",
   "execution_count": 27,
   "id": "7ebbe226-e78d-4ba1-8ac1-e57b748a3b3e",
   "metadata": {},
   "outputs": [
    {
     "name": "stdout",
     "output_type": "stream",
     "text": [
      "<class 'str'>\n",
      "<class 'bool'>\n"
     ]
    }
   ],
   "source": [
    "a = \"3\"\n",
    "print(type(a))\n",
    "print(type(bool(a)))"
   ]
  },
  {
   "cell_type": "code",
   "execution_count": 28,
   "id": "00e2c38c-e554-443c-a563-279fb2d3fb2e",
   "metadata": {},
   "outputs": [
    {
     "name": "stdin",
     "output_type": "stream",
     "text": [
      "Enter a number:  4\n"
     ]
    },
    {
     "name": "stdout",
     "output_type": "stream",
     "text": [
      "Positive number\n"
     ]
    }
   ],
   "source": [
    "#11\n",
    "num = float(input(\"Enter a number: \"))\n",
    "if num > 0:\n",
    "   print(\"Positive number\")\n",
    "elif num == 0:\n",
    "   print(\"Zero\")\n",
    "else:\n",
    "   print(\"Negative number\")"
   ]
  },
  {
   "cell_type": "code",
   "execution_count": 37,
   "id": "1fbfc2c6-8426-4a70-8c19-fc6bba1c7686",
   "metadata": {},
   "outputs": [
    {
     "name": "stdout",
     "output_type": "stream",
     "text": [
      "1\n",
      "2\n",
      "3\n",
      "4\n",
      "5\n",
      "6\n",
      "7\n",
      "8\n",
      "9\n",
      "10\n"
     ]
    }
   ],
   "source": [
    "#12\n",
    "\n",
    "l =[1,2,3,4,5,6,7,8,9,10]\n",
    "for i in l:\n",
    "    print(i)"
   ]
  },
  {
   "cell_type": "code",
   "execution_count": 41,
   "id": "fe02865f-55ca-4261-a1c1-bb087231e12d",
   "metadata": {},
   "outputs": [
    {
     "name": "stdout",
     "output_type": "stream",
     "text": [
      "1\n",
      "3\n",
      "5\n",
      "7\n",
      "9\n",
      "11\n",
      "13\n",
      "15\n",
      "17\n",
      "19\n",
      "21\n",
      "23\n",
      "25\n",
      "27\n",
      "29\n",
      "31\n",
      "33\n",
      "35\n",
      "37\n",
      "39\n",
      "41\n",
      "43\n",
      "45\n",
      "47\n",
      "49\n"
     ]
    }
   ],
   "source": [
    "#13\n",
    "#print even num \n",
    "\n",
    "for i in range(50):\n",
    "    if i%2 == 0:\n",
    "        continue\n",
    "    print(i)"
   ]
  },
  {
   "cell_type": "code",
   "execution_count": 42,
   "id": "70b1f615-8918-495c-b5a6-980f10f1b237",
   "metadata": {},
   "outputs": [
    {
     "name": "stdout",
     "output_type": "stream",
     "text": [
      "5\n",
      "4\n",
      "3\n",
      "2\n",
      "1\n"
     ]
    }
   ],
   "source": [
    "#14\n",
    "\n",
    "#revers  using while loop\n",
    "\n",
    "count = 5\n",
    "while count > 0:\n",
    "    print(count)\n",
    "    count = count-1"
   ]
  },
  {
   "cell_type": "code",
   "execution_count": null,
   "id": "bf24bf51-87c4-4e9e-9134-059e9bab8373",
   "metadata": {},
   "outputs": [],
   "source": [
    "#15\n"
   ]
  }
 ],
 "metadata": {
  "kernelspec": {
   "display_name": "Python 3 (ipykernel)",
   "language": "python",
   "name": "python3"
  },
  "language_info": {
   "codemirror_mode": {
    "name": "ipython",
    "version": 3
   },
   "file_extension": ".py",
   "mimetype": "text/x-python",
   "name": "python",
   "nbconvert_exporter": "python",
   "pygments_lexer": "ipython3",
   "version": "3.12.7"
  }
 },
 "nbformat": 4,
 "nbformat_minor": 5
}
